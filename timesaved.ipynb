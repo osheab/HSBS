{
 "cells": [
  {
   "cell_type": "code",
   "execution_count": null,
   "metadata": {},
   "outputs": [],
   "source": []
  },
  {
   "cell_type": "code",
   "execution_count": 9,
   "metadata": {},
   "outputs": [],
   "source": []
  },
  {
   "cell_type": "code",
   "execution_count": 7,
   "metadata": {},
   "outputs": [
    {
     "name": "stdout",
     "output_type": "stream",
     "text": [
      "Time to Deploy each time (mins.secs);\n",
      "      Continuous Deployment: 3.21\n",
      "      Manually: \n",
      "\t- via the Portal: 8.56 \n",
      "\t- via the CLI: 8.08\n",
      "\n",
      "Assuming there were 3 deployments per day this would equate to:\n",
      "- 15 deployments per week,\n",
      "- Roughly 60 deployments per month,\n",
      "- 780 deployments per year.\n",
      "\n",
      "---------------------\n",
      "Time taken to manually deploy (Hrs:Mins:Secs)\n",
      "daily \b: 0:25:36\n",
      "weekly \b: 2:08:00\n",
      "monthly \b: 8:32:00\n",
      "annually \b: 110:56:00\n",
      "---------------------\n",
      "Time taken to Continuously deploy (Hrs:Mins:Secs)\n",
      "daily \b: 0:10:03\n",
      "weekly \b: 0:50:15\n",
      "monthly \b: 3:21:00\n",
      "annually \b: 43:33:00\n",
      "\n",
      "*remember the added benefit of being \"hands free\" to do other things whilst automated CD is taking\n",
      "place. So the time saved would essentially be the manual deployment times themselves.\n"
     ]
    }
   ],
   "source": [
    "CD = 3.21 \n",
    "man_portal=8.56\n",
    "man_CLI=8.08\n",
    "\n",
    "#FUNCTION TO CONVERT THE INITIAL TIMES INTO SECONDS\n",
    "def makeseconds(h):\n",
    "    z=str(h).split('.')\n",
    "    a=[]\n",
    "    for i in z:\n",
    "        a.append(int(i))\n",
    "    s=(a[0]*60)+a[1]\n",
    "    return (s)\n",
    "\n",
    "#FUNCTION TO CONVERT SECONDS TO HOURS, MINUTES AND SECONDS.\n",
    "def maketime(seconds):\n",
    "    min, sec= divmod(seconds, 60)\n",
    "    hour, min= divmod(min,60)\n",
    "    return \"%d:%02d:%02d\" % (hour,min,sec)\n",
    "\n",
    "#FIND AVERAGE TIME OF DEPLOYMENT BETWEEN PORTAL AND COMMAND LINE INTERFACE DEPLOYMENTS IN SECS.\n",
    "z= (makeseconds(man_portal) + makeseconds(man_CLI))/2\n",
    "#CONVERT CD TIME TO SECS\n",
    "x=makeseconds(CD)\n",
    "b={'Time taken to manually deploy':z,'Time taken to Continuously deploy':x}\n",
    "\n",
    "\n",
    "#HYPOTHESISING THAT 3 DEPLOYMENTS ARE DONE PER DAY IN A 5 DAY WORKING WEEK...\n",
    "PER_DAY=3\n",
    "PER_WEEK=PER_DAY*5\n",
    "PER_MONTH=PER_WEEK*4\n",
    "PER_YEAR=PER_WEEK*52\n",
    "\n",
    "\n",
    "print (f'Time to Deploy each time (mins.secs);\\n\\\n",
    "      Continuous Deployment: {CD}\\n\\\n",
    "      Manually: \\n\\t- via the Portal: {man_portal} \\n\\t- via the CLI: {man_CLI}' )\n",
    "print (f\"\\nAssuming there were 3 deployments per day this would equate to:\\\n",
    "\\n- {PER_WEEK} deployments per week,\\n- Roughly {PER_MONTH}\\\n",
    " deployments per month,\\n- {PER_YEAR} deployments per year.\\n\")\n",
    "\n",
    "#FIND THE DAILY, WEEKLY, MONTHLY, AND ANNUAL TIME SAVED IN SECONDS.\n",
    "for k in b:\n",
    "    print ('---------------------')\n",
    "    print (k, '(Hrs:Mins:Secs)')\n",
    "    a=[]\n",
    "    c=['daily', 'weekly', 'monthly', 'annually']\n",
    "    TOTALD=maketime(PER_DAY*b[k])\n",
    "    TOTALW=maketime(PER_WEEK*b[k])\n",
    "    TOTALM=maketime(PER_MONTH*b[k])\n",
    "    TOTALY=maketime(PER_YEAR*b[k])\n",
    "    a.append(TOTALD)\n",
    "    a.append(TOTALW)\n",
    "    a.append(TOTALM)\n",
    "    a.append(TOTALY)\n",
    "    for i in range (0,4):\n",
    "    \n",
    "\n",
    "        print (c[i],'\\b:', a[i])\n",
    "print('\\n*remember the added benefit of being \"hands free\" to do other things whilst automated CD is taking\\n\\\n",
    "place. So the time saved would essentially be the manual deployment times themselves.')"
   ]
  },
  {
   "cell_type": "code",
   "execution_count": null,
   "metadata": {},
   "outputs": [],
   "source": []
  },
  {
   "cell_type": "code",
   "execution_count": null,
   "metadata": {},
   "outputs": [],
   "source": []
  }
 ],
 "metadata": {
  "kernelspec": {
   "display_name": "Python 3",
   "language": "python",
   "name": "python3"
  },
  "language_info": {
   "codemirror_mode": {
    "name": "ipython",
    "version": 3
   },
   "file_extension": ".py",
   "mimetype": "text/x-python",
   "name": "python",
   "nbconvert_exporter": "python",
   "pygments_lexer": "ipython3",
   "version": "3.8.3"
  }
 },
 "nbformat": 4,
 "nbformat_minor": 4
}
